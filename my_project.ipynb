{
 "cells": [
  {
   "cell_type": "markdown",
   "id": "c1a08017",
   "metadata": {},
   "source": [
    "Before you turn this problem in, make sure everything runs as expected. First, **restart the kernel** (in the menubar, select Kernel $\\rightarrow$ Restart) and then **run all cells** (in the menubar, select Cell $\\rightarrow$ Run All).\n",
    "\n",
    "Make sure you fill in any place that says `YOUR CODE HERE` or \"YOUR ANSWER HERE\", as well as your name and collaborators below:"
   ]
  },
  {
   "cell_type": "code",
   "execution_count": null,
   "id": "f8756ad5",
   "metadata": {},
   "outputs": [],
   "source": [
    "NAME = \"Glory Ly\"\n",
    "COLLABORATORS = \"\""
   ]
  },
  {
   "cell_type": "code",
   "execution_count": 103,
   "id": "60d8820c-ca5f-4fb7-99ef-6dbcd4bc08c6",
   "metadata": {},
   "outputs": [],
   "source": [
    "import os\n",
    "import sqlite3\n",
    "import pandas as pd\n",
    "import numpy as np\n",
    "import matplotlib.pyplot as plt\n",
    "import seaborn as sns"
   ]
  },
  {
   "cell_type": "markdown",
   "id": "d767da51-12d0-46ee-9949-0589bf7004f9",
   "metadata": {},
   "source": [
    "## PART 1: DATA COLLECTION AND CLEANING ##"
   ]
  },
  {
   "cell_type": "code",
   "execution_count": 133,
   "id": "28d7a276-17e5-4502-b047-3ca0f314ada9",
   "metadata": {},
   "outputs": [
    {
     "name": "stdout",
     "output_type": "stream",
     "text": [
      "gym dataset shape:  (973, 15)\n",
      "\n",
      "\n",
      "\n",
      "Missing values per column:\n",
      "Age                              0\n",
      "Gender                           0\n",
      "Weight (kg)                      0\n",
      "Height (m)                       0\n",
      "Max_BPM                          0\n",
      "Avg_BPM                          0\n",
      "Resting_BPM                      0\n",
      "Session_Duration (hours)         0\n",
      "Calories_Burned                  0\n",
      "Workout_Type                     0\n",
      "Fat_Percentage                   0\n",
      "Water_Intake (liters)            0\n",
      "Workout_Frequency (days/week)    0\n",
      "Experience_Level                 0\n",
      "BMI                              0\n",
      "dtype: int64\n",
      "\n",
      "\n",
      "\n",
      "   Age  Gender  Weight (kg)  Height (m)  Max_BPM  Avg_BPM  Resting_BPM  \\\n",
      "0   56    Male         88.3        1.71      180      157           60   \n",
      "1   46  Female         74.9        1.53      179      151           66   \n",
      "2   32  Female         68.1        1.66      167      122           54   \n",
      "3   25    Male         53.2        1.70      190      164           56   \n",
      "4   38    Male         46.1        1.79      188      158           68   \n",
      "\n",
      "   Session_Duration (hours)  Calories_Burned Workout_Type  Fat_Percentage  \\\n",
      "0                      1.69           1313.0         Yoga            12.6   \n",
      "1                      1.30            883.0         HIIT            33.9   \n",
      "2                      1.11            677.0       Cardio            33.4   \n",
      "3                      0.59            532.0     Strength            28.8   \n",
      "4                      0.64            556.0     Strength            29.2   \n",
      "\n",
      "   Water_Intake (liters)  Workout_Frequency (days/week)  Experience_Level  \\\n",
      "0                    3.5                              4                 3   \n",
      "1                    2.1                              4                 2   \n",
      "2                    2.3                              4                 2   \n",
      "3                    2.1                              3                 1   \n",
      "4                    2.8                              3                 1   \n",
      "\n",
      "     BMI  \n",
      "0  30.20  \n",
      "1  32.00  \n",
      "2  24.71  \n",
      "3  18.41  \n",
      "4  14.39  \n",
      "\n",
      "\n",
      " \n",
      "<class 'pandas.core.frame.DataFrame'>\n",
      "RangeIndex: 973 entries, 0 to 972\n",
      "Data columns (total 15 columns):\n",
      " #   Column                         Non-Null Count  Dtype  \n",
      "---  ------                         --------------  -----  \n",
      " 0   Age                            973 non-null    int64  \n",
      " 1   Gender                         973 non-null    object \n",
      " 2   Weight (kg)                    973 non-null    float64\n",
      " 3   Height (m)                     973 non-null    float64\n",
      " 4   Max_BPM                        973 non-null    int64  \n",
      " 5   Avg_BPM                        973 non-null    int64  \n",
      " 6   Resting_BPM                    973 non-null    int64  \n",
      " 7   Session_Duration (hours)       973 non-null    float64\n",
      " 8   Calories_Burned                973 non-null    float64\n",
      " 9   Workout_Type                   973 non-null    object \n",
      " 10  Fat_Percentage                 973 non-null    float64\n",
      " 11  Water_Intake (liters)          973 non-null    float64\n",
      " 12  Workout_Frequency (days/week)  973 non-null    int64  \n",
      " 13  Experience_Level               973 non-null    int64  \n",
      " 14  BMI                            973 non-null    float64\n",
      "dtypes: float64(7), int64(6), object(2)\n",
      "memory usage: 114.2+ KB\n",
      "None\n",
      "\n",
      "\n",
      "\n",
      "Number of duplicated rows:  0\n"
     ]
    }
   ],
   "source": [
    "# Load the dataset\n",
    "gym_data = pd.read_csv(\"gym_members_exercise_tracking.csv\") #dataset from kaggle\n",
    "\n",
    "gymdf = pd.DataFrame(gym_data) #load into dataframe\n",
    "\n",
    "print(\"gym dataset shape: \",gymdf.shape)\n",
    "print(\"\\n\\n\")\n",
    "\n",
    "#check for missing values\n",
    "print(\"Missing values per column:\")\n",
    "print(gym_data.isnull().sum())\n",
    "print(\"\\n\\n\")\n",
    "    \n",
    "print(gymdf.head()) #check if loaded\n",
    "print(\"\\n\\n \")\n",
    "\n",
    "print(gymdf.info())#check structure\n",
    "print(\"\\n\\n\")\n",
    "\n",
    "#checking for duplications\n",
    "print(\"Number of duplicated rows: \", gymdf.duplicated().sum())"
   ]
  },
  {
   "cell_type": "code",
   "execution_count": 82,
   "id": "6d772f0c-bee3-4dfb-807f-536ed15361de",
   "metadata": {},
   "outputs": [
    {
     "name": "stdout",
     "output_type": "stream",
     "text": [
      "Outliers in 'Age':\n",
      "Series([], Name: Age, dtype: int64)\n",
      "\n",
      "\n",
      "Outliers in 'Weight (kg)':\n",
      "96     129.0\n",
      "122    129.5\n",
      "180    128.2\n",
      "283    128.4\n",
      "291    128.4\n",
      "593    129.9\n",
      "614    128.4\n",
      "648    127.9\n",
      "854    129.2\n",
      "Name: Weight (kg), dtype: float64\n",
      "\n",
      "\n",
      "Outliers in 'Height (m)':\n",
      "Series([], Name: Height (m), dtype: float64)\n",
      "\n",
      "\n",
      "Outliers in 'Max_BPM':\n",
      "Series([], Name: Max_BPM, dtype: int64)\n",
      "\n",
      "\n",
      "Outliers in 'Avg_BPM':\n",
      "Series([], Name: Avg_BPM, dtype: int64)\n",
      "\n",
      "\n",
      "Outliers in 'Resting_BPM':\n",
      "Series([], Name: Resting_BPM, dtype: int64)\n",
      "\n",
      "\n",
      "Outliers in 'Session_Duration (hours)':\n",
      "Series([], Name: Session_Duration (hours), dtype: float64)\n",
      "\n",
      "\n",
      "Outliers in 'Calories_Burned':\n",
      "90     1688.0\n",
      "99     1625.0\n",
      "124    1701.0\n",
      "475    1622.0\n",
      "511    1725.0\n",
      "572    1646.0\n",
      "646    1675.0\n",
      "712    1766.0\n",
      "728    1634.0\n",
      "910    1783.0\n",
      "Name: Calories_Burned, dtype: float64\n",
      "\n",
      "\n",
      "Outliers in 'Fat_Percentage':\n",
      "Series([], Name: Fat_Percentage, dtype: float64)\n",
      "\n",
      "\n",
      "Outliers in 'Water_Intake (liters)':\n",
      "Series([], Name: Water_Intake (liters), dtype: float64)\n",
      "\n",
      "\n",
      "Outliers in 'Workout_Frequency (days/week)':\n",
      "Series([], Name: Workout_Frequency (days/week), dtype: int64)\n",
      "\n",
      "\n",
      "Outliers in 'Experience_Level':\n",
      "Series([], Name: Experience_Level, dtype: int64)\n",
      "\n",
      "\n",
      "Outliers in 'BMI':\n",
      "10     43.31\n",
      "12     43.40\n",
      "35     42.63\n",
      "55     44.84\n",
      "133    45.43\n",
      "251    45.14\n",
      "261    47.72\n",
      "291    45.49\n",
      "302    43.31\n",
      "345    44.71\n",
      "445    41.60\n",
      "470    46.90\n",
      "524    42.30\n",
      "593    43.40\n",
      "603    41.84\n",
      "687    45.14\n",
      "710    46.98\n",
      "718    41.34\n",
      "833    44.26\n",
      "854    49.84\n",
      "868    46.94\n",
      "916    41.56\n",
      "924    44.10\n",
      "936    44.66\n",
      "945    48.43\n",
      "Name: BMI, dtype: float64\n",
      "\n",
      "\n"
     ]
    }
   ],
   "source": [
    "#helper function to detect outliers via IQR method\n",
    "def detect_outliers_iqr(column):\n",
    "    Q1 = column.quantile(0.25)\n",
    "    Q3 = column.quantile(0.75)\n",
    "    IQR = Q3 - Q1\n",
    "    lower_bound = Q1 - 1.5 * IQR\n",
    "    upper_bound = Q3 + 1.5 * IQR\n",
    "    outliers = column[(column < lower_bound) | (column > upper_bound)]\n",
    "    return outliers\n",
    "\n",
    "#apply outlier detection to numerical columns\n",
    "outlier_summary = {}\n",
    "for col in gymdf.select_dtypes(include=['float64', 'int64']).columns:\n",
    "    outliers = detect_outliers_iqr(gymdf[col])\n",
    "    outlier_summary[col] = outliers\n",
    "\n",
    "#print outliers found in each column\n",
    "for col, outliers in outlier_summary.items():\n",
    "    print(f\"Outliers in '{col}':\")\n",
    "    print(outliers)\n",
    "    print(\"\\n\")"
   ]
  },
  {
   "cell_type": "code",
   "execution_count": 90,
   "id": "8bf11c01-2adb-4982-83a4-3757187dbd89",
   "metadata": {},
   "outputs": [
    {
     "data": {
      "text/plain": [
       "Text(0.5, 1.0, 'BMI')"
      ]
     },
     "execution_count": 90,
     "metadata": {},
     "output_type": "execute_result"
    },
    {
     "data": {
      "image/png": "[encoded data removed]",
      "text/plain": [
       "<Figure size 2000x1000 with 3 Axes>"
      ]
     },
     "metadata": {},
     "output_type": "display_data"
    }
   ],
   "source": [
    "#using seaborn to display outliers visually: \n",
    "plt.figure(figsize=(20,10))\n",
    "\n",
    "# First subplot: Weight\n",
    "plt.subplot(1,3,1)\n",
    "sns.boxplot(y=gymdf[\"Weight (kg)\"], color=\"#FF7F50\")\n",
    "plt.title(\"Weight (kg)\")\n",
    "\n",
    "# Second subplot: Calories Burned\n",
    "plt.subplot(1,3,2)\n",
    "sns.boxplot(y=gymdf[\"Calories_Burned\"], color=\"#87CEEB\")\n",
    "plt.title(\"Calories Burned\")\n",
    "\n",
    "# Third subplot: BMI\n",
    "plt.subplot(1,3,3)\n",
    "sns.boxplot(y=gymdf[\"BMI\"], color=\"#7FFF00\")\n",
    "plt.title(\"BMI\")"
   ]
  },
  {
   "cell_type": "markdown",
   "id": "53ee9547-3a4f-48af-abbc-9053b780fa4a",
   "metadata": {},
   "source": [
    "<p> Since the data is simulated I'll replace outliers with averages in order to fit regression model easier. </p>"
   ]
  },
  {
   "cell_type": "code",
   "execution_count": 127,
   "id": "102c772f-b7f2-4f92-a529-812e425b3d4c",
   "metadata": {},
   "outputs": [],
   "source": [
    "numerical_cols = ['Age', 'Weight (kg)', 'Height (m)', 'Max_BPM', 'Avg_BPM', 'Resting_BPM',\n",
    "                  'Session_Duration (hours)', 'Calories_Burned', 'Fat_Percentage',\n",
    "                  'Water_Intake (liters)', 'Workout_Frequency (days/week)', 'BMI']\n",
    "\n",
    "category_column = 'Workout_Type'  # Using 'Workout_Type' for categorization\n",
    "\n",
    "def replace_w_mean(data, column, category_column, outliers):  # Corrected function name\n",
    "    for category in data[category_column].unique():\n",
    "        category_mask = (data[category_column] == category) & outliers\n",
    "        non_outlier_mask = (data[category_column] == category) & ~outliers\n",
    "        category_mean = data.loc[non_outlier_mask, column].mean()\n",
    "        if not np.isnan(category_mean):\n",
    "            data.loc[category_mask, column] = category_mean  # Indentation fix\n",
    "\n",
    "for col in numerical_cols:\n",
    "    outliers = identify_outliers_iqr(gymdf, col)  # Using 'gymdf'\n",
    "    if outliers.any():\n",
    "        replace_w_mean(gymdf, col, category_column, outliers)  # Using 'gymdf' and corrected function"
   ]
  },
  {
   "cell_type": "code",
   "execution_count": 128,
   "id": "7d0227d6-82f6-4f70-97cb-36e250c98974",
   "metadata": {},
   "outputs": [
    {
     "data": {
      "text/html": [
       "<div>\n",
       "<style scoped>\n",
       "    .dataframe tbody tr th:only-of-type {\n",
       "        vertical-align: middle;\n",
       "    }\n",
       "\n",
       "    .dataframe tbody tr th {\n",
       "        vertical-align: top;\n",
       "    }\n",
       "\n",
       "    .dataframe thead th {\n",
       "        text-align: right;\n",
       "    }\n",
       "</style>\n",
       "<table border=\"1\" class=\"dataframe\">\n",
       "  <thead>\n",
       "    <tr style=\"text-align: right;\">\n",
       "      <th></th>\n",
       "      <th>Age</th>\n",
       "      <th>Weight (kg)</th>\n",
       "      <th>Height (m)</th>\n",
       "      <th>Max_BPM</th>\n",
       "      <th>Avg_BPM</th>\n",
       "      <th>Resting_BPM</th>\n",
       "      <th>Session_Duration (hours)</th>\n",
       "      <th>Calories_Burned</th>\n",
       "      <th>Fat_Percentage</th>\n",
       "      <th>Water_Intake (liters)</th>\n",
       "      <th>Workout_Frequency (days/week)</th>\n",
       "      <th>Experience_Level</th>\n",
       "      <th>BMI</th>\n",
       "    </tr>\n",
       "  </thead>\n",
       "  <tbody>\n",
       "    <tr>\n",
       "      <th>count</th>\n",
       "      <td>973.000000</td>\n",
       "      <td>973.000000</td>\n",
       "      <td>973.00000</td>\n",
       "      <td>973.000000</td>\n",
       "      <td>973.000000</td>\n",
       "      <td>973.000000</td>\n",
       "      <td>973.000000</td>\n",
       "      <td>973.000000</td>\n",
       "      <td>973.000000</td>\n",
       "      <td>973.000000</td>\n",
       "      <td>973.000000</td>\n",
       "      <td>973.000000</td>\n",
       "      <td>973.00000</td>\n",
       "    </tr>\n",
       "    <tr>\n",
       "      <th>mean</th>\n",
       "      <td>38.683453</td>\n",
       "      <td>73.339194</td>\n",
       "      <td>1.72258</td>\n",
       "      <td>179.883864</td>\n",
       "      <td>143.766701</td>\n",
       "      <td>62.223022</td>\n",
       "      <td>1.256423</td>\n",
       "      <td>897.343590</td>\n",
       "      <td>24.976773</td>\n",
       "      <td>2.626619</td>\n",
       "      <td>3.321686</td>\n",
       "      <td>1.809866</td>\n",
       "      <td>24.39332</td>\n",
       "    </tr>\n",
       "    <tr>\n",
       "      <th>std</th>\n",
       "      <td>12.180928</td>\n",
       "      <td>20.532605</td>\n",
       "      <td>0.12772</td>\n",
       "      <td>11.525686</td>\n",
       "      <td>14.345101</td>\n",
       "      <td>7.327060</td>\n",
       "      <td>0.343033</td>\n",
       "      <td>260.695515</td>\n",
       "      <td>6.259419</td>\n",
       "      <td>0.600172</td>\n",
       "      <td>0.913047</td>\n",
       "      <td>0.739693</td>\n",
       "      <td>5.83102</td>\n",
       "    </tr>\n",
       "    <tr>\n",
       "      <th>min</th>\n",
       "      <td>18.000000</td>\n",
       "      <td>40.000000</td>\n",
       "      <td>1.50000</td>\n",
       "      <td>160.000000</td>\n",
       "      <td>120.000000</td>\n",
       "      <td>50.000000</td>\n",
       "      <td>0.500000</td>\n",
       "      <td>303.000000</td>\n",
       "      <td>10.000000</td>\n",
       "      <td>1.500000</td>\n",
       "      <td>2.000000</td>\n",
       "      <td>1.000000</td>\n",
       "      <td>12.32000</td>\n",
       "    </tr>\n",
       "    <tr>\n",
       "      <th>25%</th>\n",
       "      <td>28.000000</td>\n",
       "      <td>58.100000</td>\n",
       "      <td>1.62000</td>\n",
       "      <td>170.000000</td>\n",
       "      <td>131.000000</td>\n",
       "      <td>56.000000</td>\n",
       "      <td>1.040000</td>\n",
       "      <td>720.000000</td>\n",
       "      <td>21.300000</td>\n",
       "      <td>2.200000</td>\n",
       "      <td>3.000000</td>\n",
       "      <td>1.000000</td>\n",
       "      <td>20.11000</td>\n",
       "    </tr>\n",
       "    <tr>\n",
       "      <th>50%</th>\n",
       "      <td>40.000000</td>\n",
       "      <td>70.000000</td>\n",
       "      <td>1.71000</td>\n",
       "      <td>180.000000</td>\n",
       "      <td>143.000000</td>\n",
       "      <td>62.000000</td>\n",
       "      <td>1.260000</td>\n",
       "      <td>891.000000</td>\n",
       "      <td>26.200000</td>\n",
       "      <td>2.600000</td>\n",
       "      <td>3.000000</td>\n",
       "      <td>2.000000</td>\n",
       "      <td>24.01000</td>\n",
       "    </tr>\n",
       "    <tr>\n",
       "      <th>75%</th>\n",
       "      <td>49.000000</td>\n",
       "      <td>85.500000</td>\n",
       "      <td>1.80000</td>\n",
       "      <td>190.000000</td>\n",
       "      <td>156.000000</td>\n",
       "      <td>68.000000</td>\n",
       "      <td>1.460000</td>\n",
       "      <td>1070.000000</td>\n",
       "      <td>29.300000</td>\n",
       "      <td>3.100000</td>\n",
       "      <td>4.000000</td>\n",
       "      <td>2.000000</td>\n",
       "      <td>27.97000</td>\n",
       "    </tr>\n",
       "    <tr>\n",
       "      <th>max</th>\n",
       "      <td>59.000000</td>\n",
       "      <td>127.800000</td>\n",
       "      <td>2.00000</td>\n",
       "      <td>199.000000</td>\n",
       "      <td>169.000000</td>\n",
       "      <td>74.000000</td>\n",
       "      <td>2.000000</td>\n",
       "      <td>1598.000000</td>\n",
       "      <td>35.000000</td>\n",
       "      <td>3.700000</td>\n",
       "      <td>5.000000</td>\n",
       "      <td>3.000000</td>\n",
       "      <td>41.03000</td>\n",
       "    </tr>\n",
       "  </tbody>\n",
       "</table>\n",
       "</div>"
      ],
      "text/plain": [
       "              Age  Weight (kg)  Height (m)     Max_BPM     Avg_BPM  \\\n",
       "count  973.000000   973.000000   973.00000  973.000000  973.000000   \n",
       "mean    38.683453    73.339194     1.72258  179.883864  143.766701   \n",
       "std     12.180928    20.532605     0.12772   11.525686   14.345101   \n",
       "min     18.000000    40.000000     1.50000  160.000000  120.000000   \n",
       "25%     28.000000    58.100000     1.62000  170.000000  131.000000   \n",
       "50%     40.000000    70.000000     1.71000  180.000000  143.000000   \n",
       "75%     49.000000    85.500000     1.80000  190.000000  156.000000   \n",
       "max     59.000000   127.800000     2.00000  199.000000  169.000000   \n",
       "\n",
       "       Resting_BPM  Session_Duration (hours)  Calories_Burned  Fat_Percentage  \\\n",
       "count   973.000000                973.000000       973.000000      973.000000   \n",
       "mean     62.223022                  1.256423       897.343590       24.976773   \n",
       "std       7.327060                  0.343033       260.695515        6.259419   \n",
       "min      50.000000                  0.500000       303.000000       10.000000   \n",
       "25%      56.000000                  1.040000       720.000000       21.300000   \n",
       "50%      62.000000                  1.260000       891.000000       26.200000   \n",
       "75%      68.000000                  1.460000      1070.000000       29.300000   \n",
       "max      74.000000                  2.000000      1598.000000       35.000000   \n",
       "\n",
       "       Water_Intake (liters)  Workout_Frequency (days/week)  Experience_Level  \\\n",
       "count             973.000000                     973.000000        973.000000   \n",
       "mean                2.626619                       3.321686          1.809866   \n",
       "std                 0.600172                       0.913047          0.739693   \n",
       "min                 1.500000                       2.000000          1.000000   \n",
       "25%                 2.200000                       3.000000          1.000000   \n",
       "50%                 2.600000                       3.000000          2.000000   \n",
       "75%                 3.100000                       4.000000          2.000000   \n",
       "max                 3.700000                       5.000000          3.000000   \n",
       "\n",
       "             BMI  \n",
       "count  973.00000  \n",
       "mean    24.39332  \n",
       "std      5.83102  \n",
       "min     12.32000  \n",
       "25%     20.11000  \n",
       "50%     24.01000  \n",
       "75%     27.97000  \n",
       "max     41.03000  "
      ]
     },
     "execution_count": 128,
     "metadata": {},
     "output_type": "execute_result"
    }
   ],
   "source": [
    "#check to see if values were replaced\n",
    "gymdf.describe()"
   ]
  },
  {
   "cell_type": "code",
   "execution_count": 137,
   "id": "97a94cf7-7b13-4751-b0ac-5ef34cf9d74d",
   "metadata": {},
   "outputs": [
    {
     "name": "stdout",
     "output_type": "stream",
     "text": [
      "   Age  Gender  Max_BPM  Avg_BPM  Resting_BPM  Session_Duration (hours)  \\\n",
      "0   56    Male      180      157           60                      1.69   \n",
      "1   46  Female      179      151           66                      1.30   \n",
      "2   32  Female      167      122           54                      1.11   \n",
      "3   25    Male      190      164           56                      0.59   \n",
      "4   38    Male      188      158           68                      0.64   \n",
      "\n",
      "   Calories_Burned Workout_Type  Fat_Percentage  Water_Intake (liters)  \\\n",
      "0           1313.0         Yoga            12.6                    3.5   \n",
      "1            883.0         HIIT            33.9                    2.1   \n",
      "2            677.0       Cardio            33.4                    2.3   \n",
      "3            532.0     Strength            28.8                    2.1   \n",
      "4            556.0     Strength            29.2                    2.8   \n",
      "\n",
      "   Workout_Frequency (days/week)  Experience_Level    BMI  Weight (lbs)  \\\n",
      "0                              4                 3  30.20    194.667946   \n",
      "1                              4                 2  32.00    165.126038   \n",
      "2                              4                 2  24.71    150.134622   \n",
      "3                              3                 1  18.41    117.285784   \n",
      "4                              3                 1  14.39    101.632982   \n",
      "\n",
      "   Height (ft)  \n",
      "0     5.610236  \n",
      "1     5.019685  \n",
      "2     5.446194  \n",
      "3     5.577428  \n",
      "4     5.872704  \n"
     ]
    }
   ],
   "source": [
    "#Conversion to US Metrics\n",
    "\n",
    "# Conversion factors\n",
    "KG_TO_LBS = 2.20462\n",
    "M_TO_FT = 3.28084\n",
    "\n",
    "gymdf['Weight (lbs)'] = gymdf['Weight (kg)'] * KG_TO_LBS\n",
    "gymdf['Height (ft)'] = gymdf['Height (m)'] * M_TO_FT\n",
    "\n",
    "#drop old columns\n",
    "gymdf = gymdf.drop(['Weight (kg)','Height (m)'], axis = 1)\n",
    "\n",
    "# Display the first few rows with the new columns\n",
    "print(gymdf.head())\n"
   ]
  },
  {
   "cell_type": "markdown",
   "id": "dd2be1c6-1a85-4320-8c73-be70c319c3ce",
   "metadata": {},
   "source": [
    "## PART 2: SQL COMPONENET\n",
    "#### Using SQL for partial data anaylsis"
   ]
  },
  {
   "cell_type": "code",
   "execution_count": 111,
   "id": "82ed5036-8a9b-4d3d-873c-46ddab48493c",
   "metadata": {},
   "outputs": [],
   "source": [
    "# Create a SQLite database connection\n",
    "conn = sqlite3.connect(\"gym_members.db\")\n",
    "\n",
    "# Create the table\n",
    "create_table_query = \"\"\"\n",
    "CREATE TABLE IF NOT EXISTS GymMembers (\n",
    "    ID INTEGER PRIMARY KEY AUTOINCREMENT,\n",
    "    Age INTEGER,\n",
    "    Gender TEXT,\n",
    "    Weight REAL,\n",
    "    Height REAL,\n",
    "    Max_BPM INTEGER,\n",
    "    Avg_BPM INTEGER,\n",
    "    Resting_BPM INTEGER,\n",
    "    Session_Duration REAL,\n",
    "    Calories_Burned REAL,\n",
    "    Workout_Type TEXT,\n",
    "    Fat_Percentage REAL,\n",
    "    Water_Intake REAL,\n",
    "    Workout_Frequency INTEGER,\n",
    "    Experience_Level INTEGER,\n",
    "    BMI REAL\n",
    ");\n",
    "\"\"\"\n",
    "conn.execute(create_table_query)\n",
    "conn.commit()"
   ]
  },
  {
   "cell_type": "code",
   "execution_count": 112,
   "id": "a560debb-4b4b-4c53-84d5-92febd0ad11b",
   "metadata": {},
   "outputs": [
    {
     "data": {
      "text/plain": [
       "973"
      ]
     },
     "execution_count": 112,
     "metadata": {},
     "output_type": "execute_result"
    }
   ],
   "source": [
    "# Write data to the SQLite table\n",
    "gym_data.to_sql(\"GymMembers\", conn, if_exists=\"replace\", index=False)"
   ]
  },
  {
   "cell_type": "code",
   "execution_count": 113,
   "id": "c0e682b3-3e94-42d4-84cc-c6686dd0afca",
   "metadata": {},
   "outputs": [],
   "source": [
    "#Insert myeself into table \n",
    "insert_query = \"\"\"\n",
    "INSERT INTO GymMembers (\n",
    "    Age, Gender, \"Weight (kg)\", \"Height (m)\", Max_BPM, Avg_BPM, Resting_BPM, \n",
    "    \"Session_Duration (hours)\", Calories_Burned, Workout_Type, Fat_Percentage, \n",
    "    \"Water_Intake (liters)\", Experience_Level, BMI\n",
    ") \n",
    "VALUES (\n",
    "    22, 'Male', 52.16, 1.7, 177, 130, 80, \n",
    "    1, 800, 'Cardio', 10, 0.8, 1, 12\n",
    ");\n",
    "\"\"\"\n",
    "conn.execute(insert_query)\n",
    "conn.commit()"
   ]
  },
  {
   "cell_type": "code",
   "execution_count": 114,
   "id": "e3d1681c-3139-45c2-8c0c-e037858e22b7",
   "metadata": {},
   "outputs": [
    {
     "name": "stdout",
     "output_type": "stream",
     "text": [
      "Entry successfully added: [(22, 'Male', 52.16, 1.7, 177, 130, 80, 1.0, 800.0, 'Cardio', 10.0, 0.8, None, 1, 12.0)]\n"
     ]
    }
   ],
   "source": [
    "#check if my entry is added\n",
    "check_query = \"\"\"\n",
    "SELECT * FROM GymMembers\n",
    "WHERE Age = 22 AND Gender = 'Male' AND \"Weight (kg)\" = 52.16;\n",
    "\"\"\"\n",
    "\n",
    "cursor = conn.execute(check_query)\n",
    "result = cursor.fetchall()\n",
    "\n",
    "# Print the result\n",
    "if result:\n",
    "    print(\"Entry successfully added:\", result)\n",
    "else:\n",
    "    print(\"No matching entry found.\")\n"
   ]
  },
  {
   "cell_type": "code",
   "execution_count": 115,
   "id": "fa920a18-fb42-4304-ac72-b16f2d204e18",
   "metadata": {},
   "outputs": [
    {
     "name": "stdout",
     "output_type": "stream",
     "text": [
      "All male gym members greater than 25 BMI \n",
      "\n",
      "     Age Gender    BMI\n",
      "0     56   Male  30.20\n",
      "1     28   Male  32.34\n",
      "2     28   Male  30.07\n",
      "3     41   Male  43.31\n",
      "4     57   Male  43.40\n",
      "..   ...    ...    ...\n",
      "282   57   Male  30.63\n",
      "283   24   Male  28.77\n",
      "284   25   Male  25.69\n",
      "285   32   Male  37.74\n",
      "286   46   Male  33.38\n",
      "\n",
      "[287 rows x 3 columns]\n",
      "top 5 calories burned \n",
      "\n",
      "   Age Gender  Calories_Burned\n",
      "0   32   Male           1783.0\n",
      "1   19   Male           1766.0\n",
      "2   39   Male           1725.0\n",
      "3   26   Male           1701.0\n",
      "4   25   Male           1688.0\n",
      "standard deviation of BMI across all members \n",
      "\n",
      "   Avg_BMI  Variance\n",
      "0   24.899    44.493\n"
     ]
    }
   ],
   "source": [
    "# Query the table\n",
    "query = \"SELECT Age, Gender, BMI FROM GymMembers WHERE Gender = 'Male' AND BMI > 25;\"\n",
    "df = pd.read_sql(query, conn)\n",
    "print(\"All male gym members greater than 25 BMI \\n\")\n",
    "print(df)\n",
    "\n",
    "query = \"SELECT Age, Gender, Calories_Burned FROM GymMembers ORDER BY Calories_Burned DESC LIMIT 5;\"\n",
    "df = pd.read_sql(query, conn)\n",
    "print(\"top 5 calories burned \\n\")\n",
    "print(df)\n",
    "\n",
    "query = \"SELECT AVG(BMI) AS Avg_BMI, (SUM((BMI - (SELECT AVG(BMI) FROM GymMembers)) * (BMI - (SELECT AVG(BMI) FROM GymMembers))) / (COUNT(*) - 1)) AS Variance FROM GymMembers;\"\n",
    "df = pd.read_sql(query, conn)\n",
    "print(\"standard deviation of BMI across all members \\n\")\n",
    "print(round(df,3))\n",
    "\n",
    "\n"
   ]
  },
  {
   "cell_type": "code",
   "execution_count": 135,
   "id": "f1e3b6f4-0da3-409b-b430-b3d6296c7230",
   "metadata": {},
   "outputs": [
    {
     "name": "stdout",
     "output_type": "stream",
     "text": [
      "BMI Trends across genders: \n",
      "    Gender  Average_BMI  Min_BMI  Max_BMI\n",
      "0  Female    22.727835    12.47    35.04\n",
      "1    Male    26.857891    12.00    49.84\n"
     ]
    }
   ],
   "source": [
    "#BMI trends across gender\n",
    "query = \"SELECT Gender, AVG(BMI) AS Average_BMI, MIN(BMI) AS Min_BMI, MAX(BMI) AS Max_BMI FROM GymMembers GROUP BY Gender;\"\n",
    "df = pd.read_sql(query,conn)\n",
    "print(\"BMI Trends across genders: \\n\",df)\n"
   ]
  },
  {
   "cell_type": "markdown",
   "id": "385a1a27",
   "metadata": {},
   "source": [
    "---"
   ]
  },
  {
   "cell_type": "code",
   "execution_count": 117,
   "id": "d68654a7-dc23-4e0c-bddc-903b9eb89862",
   "metadata": {},
   "outputs": [
    {
     "name": "stdout",
     "output_type": "stream",
     "text": [
      "     Age  Resting_BPM\n",
      "0     56           60\n",
      "1     46           66\n",
      "2     32           54\n",
      "3     25           56\n",
      "4     38           68\n",
      "..   ...          ...\n",
      "969   25           56\n",
      "970   59           53\n",
      "971   32           62\n",
      "972   46           66\n",
      "973   22           80\n",
      "\n",
      "[974 rows x 2 columns]\n",
      "                  Age  Resting_BPM\n",
      "Age          1.000000     0.000935\n",
      "Resting_BPM  0.000935     1.000000\n"
     ]
    }
   ],
   "source": [
    "query = \"SELECT Age, Resting_BPM FROM GymMembers;\" \n",
    "df  = pd.read_sql(query,conn)\n",
    "print(df)\n",
    "\n",
    "# Load data into pandas\n",
    "AgeToResting = pd.read_sql_query(\"SELECT Age, Resting_BPM FROM GymMembers;\", conn)\n",
    "\n",
    "# Calculate correlation\n",
    "correlation = AgeToResting.corr()\n",
    "print(correlation)\n"
   ]
  },
  {
   "cell_type": "code",
   "execution_count": 118,
   "id": "f9225265-9ad7-405e-9985-4ddb4df6263d",
   "metadata": {},
   "outputs": [
    {
     "name": "stdout",
     "output_type": "stream",
     "text": [
      "Average Session Duration across Experience Levels \n",
      "\n",
      "   Experience_Level  Average_Session_Duration\n",
      "0                 1                  1.010186\n",
      "1                 2                  1.247882\n",
      "2                 3                  1.759267\n"
     ]
    }
   ],
   "source": [
    "query = '''SELECT Experience_Level, AVG(\"Session_Duration (hours)\") AS Average_Session_Duration FROM GymMembers GROUP BY Experience_Level; '''\n",
    "df = pd.read_sql(query,conn)\n",
    "print(\"Average Session Duration across Experience Levels \\n\")\n",
    "print(df)\n"
   ]
  },
  {
   "cell_type": "code",
   "execution_count": 119,
   "id": "52467785-8658-441a-a6f3-82bea3f827d4",
   "metadata": {},
   "outputs": [
    {
     "name": "stdout",
     "output_type": "stream",
     "text": [
      "Workout type with most calories burend \n",
      "\n",
      "  Workout_Type  Average_Calories_Burned\n",
      "0         HIIT                925.80543\n"
     ]
    }
   ],
   "source": [
    "query = '''SELECT Workout_Type, AVG(Calories_Burned) AS Average_Calories_Burned\n",
    "FROM GymMembers\n",
    "GROUP BY Workout_Type\n",
    "ORDER BY Average_Calories_Burned DESC\n",
    "LIMIT 1;\n",
    "'''\n",
    "df = pd.read_sql(query,conn)\n",
    "print(\"Workout type with most calories burend \\n\")\n",
    "print(df)\n"
   ]
  },
  {
   "cell_type": "code",
   "execution_count": 120,
   "id": "0decd73f-ae48-4c2f-825d-77ad871a480e",
   "metadata": {},
   "outputs": [
    {
     "name": "stdout",
     "output_type": "stream",
     "text": [
      "average body fat percentage for members working out more than 3 days a week\n",
      "\n",
      "   Average_Fat_Percentage\n",
      "0               21.433824\n"
     ]
    }
   ],
   "source": [
    "query = '''SELECT AVG(Fat_Percentage) AS Average_Fat_Percentage\n",
    "FROM GymMembers\n",
    "WHERE \"Workout_Frequency (days/week)\" > 3;\n",
    "'''\n",
    "df = pd.read_sql(query,conn)\n",
    "print(\"average body fat percentage for members working out more than 3 days a week\\n\")\n",
    "print(df)"
   ]
  },
  {
   "cell_type": "code",
   "execution_count": 121,
   "id": "2b3aa184-00b7-4592-8b72-7dc7f0bdc6bc",
   "metadata": {},
   "outputs": [
    {
     "name": "stdout",
     "output_type": "stream",
     "text": [
      "daily water intake vs calories burned\n",
      "    Water_Intake_Range  Average_Calories_Burned\n",
      "0                  0.8               800.000000\n",
      "1                  1.5               819.750000\n",
      "2                  1.6               798.538462\n",
      "3                  1.7               740.925926\n",
      "4                  1.8               806.235294\n",
      "5                  1.9               770.709677\n",
      "6                  2.0               791.760870\n",
      "7                  2.1               810.561404\n",
      "8                  2.2               847.285714\n",
      "9                  2.3               810.847458\n",
      "10                 2.4               803.854545\n",
      "11                 2.5               837.666667\n",
      "12                 2.6               782.280000\n",
      "13                 2.7              1075.439024\n",
      "14                 2.8               853.740741\n",
      "15                 2.9               856.029412\n",
      "16                 3.0               886.863636\n",
      "17                 3.1               829.689655\n",
      "18                 3.2               803.954545\n",
      "19                 3.3               889.318182\n",
      "20                 3.4               863.538462\n",
      "21                 3.5              1231.411290\n",
      "22                 3.6               858.444444\n",
      "23                 3.7               887.500000\n"
     ]
    }
   ],
   "source": [
    "query = '''SELECT \n",
    "    ROUND(\"Water_Intake (liters)\", 1) AS Water_Intake_Range, \n",
    "    AVG(Calories_Burned) AS Average_Calories_Burned\n",
    "FROM GymMembers\n",
    "GROUP BY Water_Intake_Range\n",
    "ORDER BY Water_Intake_Range;\n",
    "'''\n",
    "\n",
    "df = pd.read_sql(query,conn)\n",
    "print(\"daily water intake vs calories burned\")\n",
    "print(df)"
   ]
  },
  {
   "cell_type": "markdown",
   "id": "c1598707-2331-4569-826d-a395878cbe35",
   "metadata": {},
   "source": [
    "## PART 3:  EDA\n",
    "#### Exploring data with visuals"
   ]
  },
  {
   "cell_type": "code",
   "execution_count": 162,
   "id": "d7f49173-8af5-461b-beae-991fd4417b38",
   "metadata": {},
   "outputs": [
    {
     "data": {
      "image/png": "[encoded data removed]",
      "text/plain": [
       "<Figure size 800x600 with 1 Axes>"
      ]
     },
     "metadata": {},
     "output_type": "display_data"
    }
   ],
   "source": [
    "sns.set_style('whitegrid')\n",
    "#Distribution of Age across data\n",
    "plt.figure(figsize=(8, 6))\n",
    "sns.histplot(gymdf['Age'], bins=20, kde=True)\n",
    "plt.title('Distribution of Ages')\n",
    "plt.xlabel('Age')\n",
    "plt.ylabel('Frequency')\n",
    "plt.show()"
   ]
  },
  {
   "cell_type": "markdown",
   "id": "fc36b974-15a1-41c3-849e-25be9a3ae958",
   "metadata": {},
   "source": [
    "<p> Basic historgram of age distribution, peaks at 40, 50, and a large frequency at 20. </p>"
   ]
  },
  {
   "cell_type": "code",
   "execution_count": null,
   "id": "d841b12d-1ae8-4e25-9e22-5aa09837d851",
   "metadata": {},
   "outputs": [],
   "source": [
    "# Scatterplot analyzing the relationship between age and calories burned with regression line\n",
    "plt.figure(figsize=(8, 6))\n",
    "sns.regplot(data=gym_data, x='Age', y='Calories_Burned', scatter_kws={'alpha':0.5}, line_kws={'color':'red'})\n",
    "plt.title('Age vs. Calories Burned')\n",
    "plt.xlabel('Age')\n",
    "plt.ylabel('Calories Burned')\n",
    "plt.show()"
   ]
  },
  {
   "cell_type": "code",
   "execution_count": 167,
   "id": "1051c51e-34df-4917-a11d-f94ed15d2fce",
   "metadata": {},
   "outputs": [
    {
     "name": "stderr",
     "output_type": "stream",
     "text": [
      "/tmp/ipykernel_3143377/4105918903.py:2: FutureWarning: The default of observed=False is deprecated and will be changed to True in a future version of pandas. Pass observed=False to retain current behavior or observed=True to adopt the future default and silence this warning.\n",
      "  age_group_frequency = gym_data.groupby('Age_Group')['Workout_Frequency (days/week)'].mean()\n"
     ]
    },
    {
     "data": {
      "image/png": "[encoded data removed]",
      "text/plain": [
       "<Figure size 800x600 with 1 Axes>"
      ]
     },
     "metadata": {},
     "output_type": "display_data"
    }
   ],
   "source": [
    "# Group by age group and calculate mean workout frequency\n",
    "age_group_frequency = gym_data.groupby('Age_Group')['Workout_Frequency (days/week)'].mean()\n",
    "\n",
    "# Bar plot\n",
    "plt.figure(figsize=(8, 6))\n",
    "age_group_frequency.plot(kind='bar', color='skyblue', edgecolor='black')\n",
    "plt.title('Average Workout Frequency by Age Group')\n",
    "plt.xlabel('Age Group')\n",
    "plt.ylabel('Average Workout Frequency (days/week)')\n",
    "plt.xticks(rotation=0)\n",
    "plt.show()"
   ]
  },
  {
   "cell_type": "code",
   "execution_count": 170,
   "id": "198674a2-d818-4bff-a8cc-a93690852ccb",
   "metadata": {},
   "outputs": [
    {
     "name": "stderr",
     "output_type": "stream",
     "text": [
      "/tmp/ipykernel_3143377/2605736570.py:2: FutureWarning: The default value of observed=False is deprecated and will change to observed=True in a future version of pandas. Specify observed=False to silence this warning and retain the current behavior\n",
      "  pivot_data = gym_data.pivot_table(index='Age_Group', columns='Experience_Level', values='Workout_Frequency (days/week)', aggfunc='mean')\n"
     ]
    },
    {
     "data": {
      "image/png": "[encoded data removed]",
      "text/plain": [
       "<Figure size 1000x600 with 1 Axes>"
      ]
     },
     "metadata": {},
     "output_type": "display_data"
    }
   ],
   "source": [
    "# Pivot data for stacked bar plot\n",
    "pivot_data = gym_data.pivot_table(index='Age_Group', columns='Experience_Level', values='Workout_Frequency (days/week)', aggfunc='mean')\n",
    "\n",
    "# Stacked bar plot\n",
    "pivot_data.plot(kind='bar', stacked=True, figsize=(10, 6), colormap='viridis', edgecolor='black')\n",
    "plt.title('Workout Frequency by Age Group and Experience Level')\n",
    "plt.xlabel('Age Group')\n",
    "plt.ylabel('Workout Frequency (days/week)')\n",
    "plt.legend(title='Experience Level')\n",
    "plt.xticks(rotation=0)\n",
    "plt.show()"
   ]
  },
  {
   "cell_type": "code",
   "execution_count": null,
   "id": "517eb0f2-bd3a-478d-a160-36f6dbd68fb0",
   "metadata": {},
   "outputs": [],
   "source": [
    "#correlation matrix between numerical variables\n",
    "numerical_cols = gymdf.select_dtypes(include=['int64', 'float64']).columns\n",
    "numerical_df = gymdf[numerical_cols]\n",
    "correlation_matrix = numerical_df.corr()\n",
    "\n",
    "# Create the heatmap\n",
    "plt.figure(figsize=(12, 10))  # Adjust the figure size as needed\n",
    "sns.heatmap(correlation_matrix, annot=True, cmap='coolwarm', fmt=\".2f\", linewidths=.5)\n",
    "plt.title('Correlation Matrix of Numerical Variables')\n",
    "plt.xticks(rotation=45, ha='right')  # Rotate x-axis labels\n",
    "plt.yticks(rotation=0) # Ensure y-axis labels do not rotate\n",
    "plt.tight_layout() #Adjust layout so labels don't get cut off\n",
    "plt.show()"
   ]
  },
  {
   "cell_type": "markdown",
   "id": "1da2242b-3ef5-4c4f-ad7f-79f076f0d477",
   "metadata": {},
   "source": [
    "<p> For all purposes to answer my question this correlation matrix shows a weak correlation between age and other workout factors... Not looking good.</p>"
   ]
  },
  {
   "cell_type": "markdown",
   "id": "79f6acc1-470f-4bb0-9dcb-5c88fa1dda11",
   "metadata": {},
   "source": [
    "## PART 4: ML FITTING\n",
    "\n",
    "#### EDA shows that the correlation between age and other factors is negligble. in which case, I'll attempt to find features that effect age on workout behavior and analytics\n",
    "\n",
    "#### If age does not effect workout regimens greatly, maybe monitoring workout intensity can"
   ]
  },
  {
   "cell_type": "code",
   "execution_count": 186,
   "id": "40e5330a-3449-4993-845f-9227c1d21dcd",
   "metadata": {},
   "outputs": [
    {
     "name": "stdout",
     "output_type": "stream",
     "text": [
      "              precision    recall  f1-score   support\n",
      "\n",
      "        High       0.83      0.72      0.77        72\n",
      "         Low       0.93      0.74      0.82        19\n",
      "      Medium       0.79      0.88      0.83       104\n",
      "\n",
      "    accuracy                           0.81       195\n",
      "   macro avg       0.85      0.78      0.81       195\n",
      "weighted avg       0.82      0.81      0.81       195\n",
      "\n",
      "Age: 0.14\n",
      "Experience_Level: 0.13\n",
      "Workout_Frequency (days/week): 0.06\n",
      "Session_Duration (hours): 0.50\n",
      "BMI: 0.17\n"
     ]
    }
   ],
   "source": [
    "from sklearn.model_selection import train_test_split\n",
    "from sklearn.ensemble import RandomForestClassifier\n",
    "from sklearn.metrics import classification_report\n",
    "\n",
    "# Define features and target\n",
    "X = gym_data[['Age', 'Experience_Level', 'Workout_Frequency (days/week)', 'Session_Duration (hours)', 'BMI']]\n",
    "y = gym_data['Workout_Intensity']  #created variable\n",
    "\n",
    "# Split data\n",
    "X_train, X_test, y_train, y_test = train_test_split(X, y, test_size=0.2, random_state=42)\n",
    "\n",
    "# Train the model\n",
    "model = RandomForestClassifier(random_state=42)\n",
    "model.fit(X_train, y_train)\n",
    "\n",
    "# Evaluate the model\n",
    "y_pred = model.predict(X_test)\n",
    "print(classification_report(y_test, y_pred))\n",
    "\n",
    "\n",
    "# Feature importance\n",
    "importances = model.feature_importances_\n",
    "for feature, importance in zip(X.columns, importances):\n",
    "    print(f\"{feature}: {importance:.2f}\")"
   ]
  },
  {
   "cell_type": "code",
   "execution_count": null,
   "id": "db50eb44-289d-4312-b5ba-b2d0f4b72f3c",
   "metadata": {},
   "outputs": [],
   "source": [
    "# Features and their importance scores\n",
    "features = ['Age', 'Experience_Level', 'Workout_Frequency (days/week)', 'Session_Duration (hours)', 'BMI']\n",
    "importances = [0.14, 0.13, 0.06, 0.50, 0.17]\n",
    "\n",
    "# Bar plot\n",
    "plt.figure(figsize=(8, 6))\n",
    "plt.barh(features, importances, color='skyblue')\n",
    "plt.title('Feature Importance')\n",
    "plt.xlabel('Importance Score')\n",
    "plt.ylabel('Feature')\n",
    "plt.gca().invert_yaxis()  # Reverse order for better readability\n",
    "plt.show()\n",
    "\n"
   ]
  }
 ],
 "metadata": {
  "kernelspec": {
   "display_name": "Python 3 (ipykernel)",
   "language": "python",
   "name": "python3"
  },
  "language_info": {
   "codemirror_mode": {
    "name": "ipython",
    "version": 3
   },
   "file_extension": ".py",
   "mimetype": "text/x-python",
   "name": "python",
   "nbconvert_exporter": "python",
   "pygments_lexer": "ipython3",
   "version": "3.12.2"
  }
 },
 "nbformat": 4,
 "nbformat_minor": 5
}
